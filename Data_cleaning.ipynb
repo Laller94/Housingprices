{
 "cells": [
  {
   "cell_type": "code",
   "execution_count": 52,
   "id": "d7fbfc7e",
   "metadata": {},
   "outputs": [
    {
     "name": "stdout",
     "output_type": "stream",
     "text": [
      "budapest,XIV,kerulet,nagy,lajos,kiraly,utja,41m2,2,szoba,734082,160 000\n",
      "budapest,I,kerulet,varfok,utca,,,71m2,2,szoba,735269,340 000\n",
      "budapest,VIII,kerulet,teleki,laszlo,ter,,38m2,2,szoba,735267,150 000\n",
      "budapest,II,kerulet,szeher,ut,,,54m2,3,szoba,735266,350 000\n",
      "budapest,VIII,kerulet,kiss,jozsef,utca,,116m2,4,szoba,732495,330 000\n",
      "budapest,XI,kerulet,bodajk,utca,,,75m2,3,szoba,722503,325 000\n",
      "budapest,XIII,kerulet,kadar,utca,,,67m2,2,szoba,735263,300 000\n",
      "budapest,VI,kerulet,szondi,utca,,,65m2,3,szoba,735265,250 000\n",
      "budapest,XI,kerulet,sasadi,ut,,,55m2,2,szoba,734910,245 000\n",
      "budapest,XVI,kerulet,hunyadvar,utca,,,45m2,2,szoba,735256,165 000\n",
      "budapest,XIII,kerulet,jasz,utca,,,68m2,3,szoba,733918,339 000\n",
      "budapest,XIV,kerulet,benko,utca,,,42m2,2,szoba,733847,190 000\n"
     ]
    }
   ],
   "source": [
    "# Sample data\n",
    "sample_data = [\n",
    "    \"budapest,XIV,kerulet,nagy,lajos,kiraly,utja,41m2,2,szoba,734082,160 000\",\n",
    "    \"budapest,I,kerulet,varfok,utca,71m2,2,szoba,735269,340 000\",\n",
    "    \"budapest,VIII,kerulet,teleki,laszlo,ter,38m2,2,szoba,735267,150 000\",\n",
    "    \"budapest,II,kerulet,szeher,ut,54m2,3,szoba,735266,350 000\",\n",
    "    \"budapest,VIII,kerulet,kiss,jozsef,utca,116m2,4,szoba,732495,330 000\",\n",
    "    \"budapest,XI,kerulet,bodajk,utca,75m2,3,szoba,722503,325 000\",\n",
    "    \"budapest,XIII,kerulet,kadar,utca,67m2,2,szoba,735263,300 000\",\n",
    "    \"budapest,VI,kerulet,szondi,utca,65m2,3,szoba,735265,250 000\",\n",
    "    \"budapest,XI,kerulet,sasadi,ut,55m2,2,szoba,734910,245 000\",\n",
    "    \"budapest,XVI,kerulet,hunyadvar,utca,45m2,2,szoba,735256,165 000\",\n",
    "    \"budapest,XIII,kerulet,jasz,utca,68m2,3,szoba,733918,339 000\",\n",
    "    \"budapest,XIV,kerulet,benko,utca,42m2,2,szoba,733847,190 000\",\n",
    "]\n",
    "\n",
    "# Function to adjust columns\n",
    "def adjust_columns(row):\n",
    "    while len(row) < 12:\n",
    "        for i in range(5, 7):\n",
    "            if \"m2\" in row[i]:\n",
    "                row.insert(i, \"\")\n",
    "                break\n",
    "    return row\n",
    "\n",
    "# Test the function on the sample data\n",
    "for row in sample_data:\n",
    "    row_list = row.split(',')\n",
    "    adjusted_row = adjust_columns(row_list)\n",
    "    print(','.join(adjusted_row))"
   ]
  },
  {
   "cell_type": "code",
   "execution_count": 63,
   "id": "d5841d8c",
   "metadata": {},
   "outputs": [],
   "source": [
    "import csv\n",
    "\n",
    "# Function to adjust columns\n",
    "def adjust_columns(row):\n",
    "    while len(row) < 12:\n",
    "        for i in range(5, 7):\n",
    "            if \"m2\" in row[i]:\n",
    "                row.insert(i, \"\")\n",
    "                break\n",
    "    return row\n",
    "\n",
    "# Read the original CSV file\n",
    "with open('prices_c.csv', 'r', newline='') as infile:\n",
    "    reader = csv.reader(infile)\n",
    "    data = [adjust_columns(row) for row in reader]\n",
    "\n",
    "# Write the corrected data to a new CSV file\n",
    "with open('cleaned.csv', 'w', newline='') as outfile:\n",
    "    writer = csv.writer(outfile)\n",
    "    writer.writerows(data)\n"
   ]
  },
  {
   "cell_type": "code",
   "execution_count": 68,
   "id": "6bc67f7d",
   "metadata": {},
   "outputs": [
    {
     "name": "stdout",
     "output_type": "stream",
     "text": [
      "budapest,I,kerulet,varfok  utca    ,71m2,2,szoba,735269,340 000\n",
      "budapest,VIII,kerulet,teleki  laszlo  ter  ,38m2,2,szoba,735267,150 000\n",
      "budapest,II,kerulet,szeher  ut    ,54m2,3,szoba,735266,350 000\n",
      "budapest,VIII,kerulet,kiss  jozsef  utca  ,116m2,4,szoba,732495,330 000\n",
      "budapest,XI,kerulet,bodajk  utca    ,75m2,3,szoba,722503,325 000\n",
      "budapest,XIII,kerulet,kadar  utca    ,67m2,2,szoba,735263,300 000\n",
      "budapest,VI,kerulet,szondi  utca    ,65m2,3,szoba,735265,250 000\n"
     ]
    }
   ],
   "source": [
    "# Function to adjust columns\n",
    "def adjust_columns(row):\n",
    "    concatenated_value = ' '.join(row[3:7])\n",
    "    row[3:7] = [concatenated_value]\n",
    "    return row\n",
    "\n",
    "# Sample data\n",
    "sample_data = [\n",
    "    'budapest,I,kerulet,varfok, utca, , ,71m2,2,szoba,735269,340 000',\n",
    "    'budapest,VIII,kerulet,teleki, laszlo, ter, ,38m2,2,szoba,735267,150 000',\n",
    "    'budapest,II,kerulet,szeher, ut, , ,54m2,3,szoba,735266,350 000',\n",
    "    'budapest,VIII,kerulet,kiss, jozsef, utca, ,116m2,4,szoba,732495,330 000',\n",
    "    'budapest,XI,kerulet,bodajk, utca, , ,75m2,3,szoba,722503,325 000',\n",
    "    'budapest,XIII,kerulet,kadar, utca, , ,67m2,2,szoba,735263,300 000',\n",
    "    'budapest,VI,kerulet,szondi, utca, , ,65m2,3,szoba,735265,250 000'\n",
    "]\n",
    "\n",
    "# Test the function on the sample data\n",
    "for row_data in sample_data:\n",
    "    row_list = row_data.split(',')\n",
    "    adjusted_row = adjust_columns(row_list)\n",
    "    print(','.join(adjusted_row))\n"
   ]
  },
  {
   "cell_type": "code",
   "execution_count": 75,
   "id": "949f518d",
   "metadata": {},
   "outputs": [],
   "source": [
    "import csv\n",
    "\n",
    "# Function to adjust columns\n",
    "def adjust_columns(row):\n",
    "    concatenated_value = '.'.join(row[1:3])\n",
    "    row[1:3] = [concatenated_value]\n",
    "    return row\n",
    "\n",
    "# Read the original CSV file\n",
    "with open('sorted_columns.csv', 'r', newline='') as infile:\n",
    "    reader = csv.reader(infile)\n",
    "    data = [adjust_columns(row) for row in reader]\n",
    "\n",
    "# Write the corrected data to a new CSV file\n",
    "with open('cleaned_sorted_columns.csv', 'w', newline='') as outfile:\n",
    "    writer = csv.writer(outfile)\n",
    "    writer.writerows(data)\n"
   ]
  },
  {
   "cell_type": "code",
   "execution_count": null,
   "id": "2abada4c",
   "metadata": {},
   "outputs": [],
   "source": []
  }
 ],
 "metadata": {
  "kernelspec": {
   "display_name": "Python 3",
   "language": "python",
   "name": "python3"
  },
  "language_info": {
   "codemirror_mode": {
    "name": "ipython",
    "version": 3
   },
   "file_extension": ".py",
   "mimetype": "text/x-python",
   "name": "python",
   "nbconvert_exporter": "python",
   "pygments_lexer": "ipython3",
   "version": "3.6.9"
  }
 },
 "nbformat": 4,
 "nbformat_minor": 5
}
